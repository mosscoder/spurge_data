{
 "cells": [
  {
   "cell_type": "code",
   "execution_count": 6,
   "id": "d6ee905f-10f7-4f9d-8014-a0f6b446f310",
   "metadata": {},
   "outputs": [
    {
     "name": "stderr",
     "output_type": "stream",
     "text": [
      "LR: 0.001 Seed: 0: 100%|████████████████████████████████████████████████████████████| 40/40 [00:04<00:00,  9.75batch/s, Learning rate=0.001, Seed=0, Epoch=10, Validation Loss=0.392, Validation Accuracy=0.602]\n",
      "LR: 0.001 Seed: 1: 100%|████████████████████████████████████████████████████████████| 40/40 [00:04<00:00,  9.98batch/s, Learning rate=0.001, Seed=1, Epoch=10, Validation Loss=0.104, Validation Accuracy=0.703]\n",
      "LR: 0.001 Seed: 2: 100%|████████████████████████████████████████████████████████████| 40/40 [00:04<00:00,  9.99batch/s, Learning rate=0.001, Seed=2, Epoch=10, Validation Loss=0.052, Validation Accuracy=0.734]\n",
      "LR: 0.001 Seed: 3: 100%|████████████████████████████████████████████████████████████| 40/40 [00:04<00:00,  9.98batch/s, Learning rate=0.001, Seed=3, Epoch=10, Validation Loss=0.014, Validation Accuracy=0.711]\n",
      "LR: 0.001 Seed: 4: 100%|████████████████████████████████████████████████████████████| 40/40 [00:04<00:00,  9.85batch/s, Learning rate=0.001, Seed=4, Epoch=10, Validation Loss=0.020, Validation Accuracy=0.688]\n",
      "LR: 0.001 Seed: 5: 100%|████████████████████████████████████████████████████████████| 40/40 [00:04<00:00,  9.89batch/s, Learning rate=0.001, Seed=5, Epoch=10, Validation Loss=0.035, Validation Accuracy=0.617]\n",
      "LR: 0.001 Seed: 6: 100%|████████████████████████████████████████████████████████████| 40/40 [00:04<00:00,  9.91batch/s, Learning rate=0.001, Seed=6, Epoch=10, Validation Loss=0.012, Validation Accuracy=0.680]\n",
      "LR: 0.001 Seed: 7: 100%|████████████████████████████████████████████████████████████| 40/40 [00:04<00:00,  9.09batch/s, Learning rate=0.001, Seed=7, Epoch=10, Validation Loss=0.003, Validation Accuracy=0.719]\n"
     ]
    },
    {
     "name": "stdout",
     "output_type": "stream",
     "text": [
      "lr: 0.001, Best epoch: 8, Accuracy 0.7236328125\n"
     ]
    },
    {
     "name": "stderr",
     "output_type": "stream",
     "text": [
      "LR: 0.0005 Seed: 0: 100%|██████████████████████████████████████████████████████████| 40/40 [00:04<00:00,  9.48batch/s, Learning rate=0.0005, Seed=0, Epoch=10, Validation Loss=0.068, Validation Accuracy=0.742]\n",
      "LR: 0.0005 Seed: 1: 100%|██████████████████████████████████████████████████████████| 40/40 [00:04<00:00,  9.65batch/s, Learning rate=0.0005, Seed=1, Epoch=10, Validation Loss=0.050, Validation Accuracy=0.672]\n",
      "LR: 0.0005 Seed: 2: 100%|██████████████████████████████████████████████████████████| 40/40 [00:04<00:00,  9.90batch/s, Learning rate=0.0005, Seed=2, Epoch=10, Validation Loss=0.148, Validation Accuracy=0.531]\n",
      "LR: 0.0005 Seed: 3: 100%|██████████████████████████████████████████████████████████| 40/40 [00:04<00:00,  9.91batch/s, Learning rate=0.0005, Seed=3, Epoch=10, Validation Loss=0.008, Validation Accuracy=0.648]\n",
      "LR: 0.0005 Seed: 4: 100%|██████████████████████████████████████████████████████████| 40/40 [00:04<00:00,  9.94batch/s, Learning rate=0.0005, Seed=4, Epoch=10, Validation Loss=0.030, Validation Accuracy=0.602]\n",
      "LR: 0.0005 Seed: 5: 100%|██████████████████████████████████████████████████████████| 40/40 [00:04<00:00,  9.94batch/s, Learning rate=0.0005, Seed=5, Epoch=10, Validation Loss=0.309, Validation Accuracy=0.664]\n",
      "LR: 0.0005 Seed: 6: 100%|██████████████████████████████████████████████████████████| 40/40 [00:04<00:00,  9.95batch/s, Learning rate=0.0005, Seed=6, Epoch=10, Validation Loss=0.006, Validation Accuracy=0.711]\n",
      "LR: 0.0005 Seed: 7: 100%|██████████████████████████████████████████████████████████| 40/40 [00:04<00:00,  9.94batch/s, Learning rate=0.0005, Seed=7, Epoch=10, Validation Loss=0.084, Validation Accuracy=0.711]\n"
     ]
    },
    {
     "name": "stdout",
     "output_type": "stream",
     "text": [
      "lr: 0.0005, Best epoch: 6, Accuracy 0.703125\n"
     ]
    },
    {
     "name": "stderr",
     "output_type": "stream",
     "text": [
      "LR: 0.0001 Seed: 0: 100%|██████████████████████████████████████████████████████████| 40/40 [00:04<00:00,  9.75batch/s, Learning rate=0.0001, Seed=0, Epoch=10, Validation Loss=0.006, Validation Accuracy=0.703]\n",
      "LR: 0.0001 Seed: 1: 100%|██████████████████████████████████████████████████████████| 40/40 [00:04<00:00,  9.89batch/s, Learning rate=0.0001, Seed=1, Epoch=10, Validation Loss=0.010, Validation Accuracy=0.719]\n",
      "LR: 0.0001 Seed: 2: 100%|██████████████████████████████████████████████████████████| 40/40 [00:04<00:00,  9.90batch/s, Learning rate=0.0001, Seed=2, Epoch=10, Validation Loss=0.008, Validation Accuracy=0.719]\n",
      "LR: 0.0001 Seed: 3: 100%|██████████████████████████████████████████████████████████| 40/40 [00:04<00:00,  9.90batch/s, Learning rate=0.0001, Seed=3, Epoch=10, Validation Loss=0.004, Validation Accuracy=0.664]\n",
      "LR: 0.0001 Seed: 4: 100%|██████████████████████████████████████████████████████████| 40/40 [00:04<00:00,  9.64batch/s, Learning rate=0.0001, Seed=4, Epoch=10, Validation Loss=0.004, Validation Accuracy=0.750]\n",
      "LR: 0.0001 Seed: 5: 100%|██████████████████████████████████████████████████████████| 40/40 [00:04<00:00,  9.97batch/s, Learning rate=0.0001, Seed=5, Epoch=10, Validation Loss=0.010, Validation Accuracy=0.648]\n",
      "LR: 0.0001 Seed: 6: 100%|██████████████████████████████████████████████████████████| 40/40 [00:04<00:00,  9.94batch/s, Learning rate=0.0001, Seed=6, Epoch=10, Validation Loss=0.046, Validation Accuracy=0.711]\n",
      "LR: 0.0001 Seed: 7: 100%|██████████████████████████████████████████████████████████| 40/40 [00:04<00:00,  9.79batch/s, Learning rate=0.0001, Seed=7, Epoch=10, Validation Loss=0.005, Validation Accuracy=0.711]\n"
     ]
    },
    {
     "name": "stdout",
     "output_type": "stream",
     "text": [
      "lr: 0.0001, Best epoch: 10, Accuracy 0.703125\n"
     ]
    },
    {
     "name": "stderr",
     "output_type": "stream",
     "text": [
      "LR: 5e-05 Seed: 0: 100%|█████████████████████████████████████████████████████████████| 40/40 [00:03<00:00, 10.05batch/s, Learning rate=5e-5, Seed=0, Epoch=10, Validation Loss=0.016, Validation Accuracy=0.633]\n",
      "LR: 5e-05 Seed: 1: 100%|█████████████████████████████████████████████████████████████| 40/40 [00:04<00:00,  9.92batch/s, Learning rate=5e-5, Seed=1, Epoch=10, Validation Loss=0.024, Validation Accuracy=0.656]\n",
      "LR: 5e-05 Seed: 2: 100%|█████████████████████████████████████████████████████████████| 40/40 [00:04<00:00,  9.96batch/s, Learning rate=5e-5, Seed=2, Epoch=10, Validation Loss=0.025, Validation Accuracy=0.703]\n",
      "LR: 5e-05 Seed: 3: 100%|█████████████████████████████████████████████████████████████| 40/40 [00:04<00:00,  9.90batch/s, Learning rate=5e-5, Seed=3, Epoch=10, Validation Loss=0.030, Validation Accuracy=0.688]\n",
      "LR: 5e-05 Seed: 4: 100%|█████████████████████████████████████████████████████████████| 40/40 [00:04<00:00,  9.95batch/s, Learning rate=5e-5, Seed=4, Epoch=10, Validation Loss=0.019, Validation Accuracy=0.664]\n",
      "LR: 5e-05 Seed: 5: 100%|█████████████████████████████████████████████████████████████| 40/40 [00:04<00:00,  9.48batch/s, Learning rate=5e-5, Seed=5, Epoch=10, Validation Loss=0.027, Validation Accuracy=0.719]\n",
      "LR: 5e-05 Seed: 6: 100%|█████████████████████████████████████████████████████████████| 40/40 [00:04<00:00,  8.67batch/s, Learning rate=5e-5, Seed=6, Epoch=10, Validation Loss=0.078, Validation Accuracy=0.703]\n",
      "LR: 5e-05 Seed: 7: 100%|█████████████████████████████████████████████████████████████| 40/40 [00:04<00:00,  9.63batch/s, Learning rate=5e-5, Seed=7, Epoch=10, Validation Loss=0.021, Validation Accuracy=0.711]\n"
     ]
    },
    {
     "name": "stdout",
     "output_type": "stream",
     "text": [
      "lr: 5e-05, Best epoch: 10, Accuracy 0.6845703125\n"
     ]
    },
    {
     "name": "stderr",
     "output_type": "stream",
     "text": [
      "LR: 1e-05 Seed: 0: 100%|█████████████████████████████████████████████████████████████| 40/40 [00:04<00:00,  9.96batch/s, Learning rate=1e-5, Seed=0, Epoch=10, Validation Loss=0.299, Validation Accuracy=0.609]\n",
      "LR: 1e-05 Seed: 1: 100%|█████████████████████████████████████████████████████████████| 40/40 [00:04<00:00,  9.56batch/s, Learning rate=1e-5, Seed=1, Epoch=10, Validation Loss=0.326, Validation Accuracy=0.625]\n",
      "LR: 1e-05 Seed: 2: 100%|█████████████████████████████████████████████████████████████| 40/40 [00:04<00:00,  9.12batch/s, Learning rate=1e-5, Seed=2, Epoch=10, Validation Loss=0.325, Validation Accuracy=0.562]\n",
      "LR: 1e-05 Seed: 3: 100%|█████████████████████████████████████████████████████████████| 40/40 [00:04<00:00,  9.89batch/s, Learning rate=1e-5, Seed=3, Epoch=10, Validation Loss=0.315, Validation Accuracy=0.648]\n",
      "LR: 1e-05 Seed: 4: 100%|█████████████████████████████████████████████████████████████| 40/40 [00:04<00:00,  9.96batch/s, Learning rate=1e-5, Seed=4, Epoch=10, Validation Loss=0.300, Validation Accuracy=0.617]\n",
      "LR: 1e-05 Seed: 5: 100%|█████████████████████████████████████████████████████████████| 40/40 [00:04<00:00,  9.94batch/s, Learning rate=1e-5, Seed=5, Epoch=10, Validation Loss=0.333, Validation Accuracy=0.602]\n",
      "LR: 1e-05 Seed: 6: 100%|█████████████████████████████████████████████████████████████| 40/40 [00:04<00:00,  9.95batch/s, Learning rate=1e-5, Seed=6, Epoch=10, Validation Loss=0.312, Validation Accuracy=0.508]\n",
      "LR: 1e-05 Seed: 7: 100%|█████████████████████████████████████████████████████████████| 40/40 [00:04<00:00,  9.11batch/s, Learning rate=1e-5, Seed=7, Epoch=10, Validation Loss=0.302, Validation Accuracy=0.602]\n"
     ]
    },
    {
     "name": "stdout",
     "output_type": "stream",
     "text": [
      "lr: 1e-05, Best epoch: 10, Accuracy 0.5966796875\n",
      "Results saved to './results/best_lr.csv'\n"
     ]
    }
   ],
   "source": [
    "import os\n",
    "import torch\n",
    "import numpy as np\n",
    "from torch import nn, optim\n",
    "from torchvision import datasets, models\n",
    "from torch.utils.data import DataLoader, Subset\n",
    "from tqdm import tqdm\n",
    "import random\n",
    "import pandas as pd\n",
    "\n",
    "device = torch.device(\"cuda\")\n",
    "\n",
    "# Function to calculate accuracy\n",
    "def binary_accuracy(preds, y):\n",
    "    rounded_preds = torch.round(torch.sigmoid(preds))\n",
    "    correct = (rounded_preds == y).float()\n",
    "    acc = correct.sum() / len(correct)\n",
    "    return acc\n",
    "\n",
    "# Function to get the best epoch and accuracy from the nested list\n",
    "def best_cv_val(nested_list):\n",
    "    array = np.array(nested_list)\n",
    "    means = np.mean(array, axis=0)\n",
    "    best_epoch = np.argmax(means)\n",
    "    return best_epoch + 1, means[best_epoch]\n",
    "\n",
    "# ... [rest of your unchanged setup, like the RandomGaussianBlur class, etc.] ...\n",
    "\n",
    "os.chdir('/home/kdoherty/spurge/data_release')\n",
    "train_dir = './data/crop_39/train'\n",
    "\n",
    "data_transforms = transforms.Compose([\n",
    "    transforms.ToTensor(), \n",
    "    transforms.Normalize(mean=[0.485, 0.456, 0.406], std=[0.229, 0.224, 0.225])\n",
    "])\n",
    "\n",
    "lrs = [0.001, 0.0005, 0.0001, 0.00005, 0.00001]\n",
    "all_lr_results = []\n",
    "\n",
    "for lr in lrs:\n",
    "    batch_size = 32\n",
    "    n_epochs = 50\n",
    "    full_dataset = datasets.ImageFolder(train_dir, transform=data_transforms)\n",
    "    seeds = range(8)\n",
    "    \n",
    "    seed_epoch_accs = []\n",
    "\n",
    "    for seed in seeds:\n",
    "        torch.manual_seed(seed)\n",
    "        np.random.seed(seed)\n",
    "        random.seed(seed)\n",
    "    \n",
    "        dataset_size = len(full_dataset)\n",
    "        indices = list(range(dataset_size))\n",
    "        random.shuffle(indices)\n",
    "        train_indices = indices[:128]\n",
    "        val_indices = indices[128:256]\n",
    "    \n",
    "        train_subset = Subset(full_dataset, train_indices)\n",
    "        val_subset = Subset(full_dataset, val_indices)\n",
    "    \n",
    "        train_loader = DataLoader(train_subset, batch_size=batch_size, shuffle=True)\n",
    "        val_loader = DataLoader(val_subset, batch_size=batch_size)\n",
    "    \n",
    "        model = models.resnet50(pretrained=True)\n",
    "        num_ftrs = model.fc.in_features\n",
    "        model.fc = nn.Sequential(nn.Linear(num_ftrs, 1))\n",
    "    \n",
    "        model = model.to(device)\n",
    "        criterion = nn.BCEWithLogitsLoss().to(device)\n",
    "        optimizer = optim.AdamW(model.parameters(), lr=lr)\n",
    "    \n",
    "        epoch_accs = []\n",
    "\n",
    "        with tqdm(total=n_epochs*len(train_loader), unit=\"batch\", desc=f\"LR: {lr} Seed: {seed}\") as pbar:\n",
    "            for epoch in range(n_epochs):\n",
    "                model.train()\n",
    "                running_loss = 0\n",
    "    \n",
    "                for images, labels in train_loader:\n",
    "                    images, labels = images.to(device), labels.to(device)\n",
    "                    optimizer.zero_grad()\n",
    "                    output = model(images)\n",
    "                    loss = criterion(output.squeeze(), labels.float())\n",
    "                    loss.backward()\n",
    "                    optimizer.step()\n",
    "                    running_loss += loss.item()\n",
    "                    pbar.update(1)\n",
    "    \n",
    "                train_loss = running_loss/len(train_loader)\n",
    "    \n",
    "                # Validate the model\n",
    "                model.eval()\n",
    "                running_loss = 0\n",
    "                running_acc = 0\n",
    "    \n",
    "                for images, labels in val_loader:\n",
    "                    images, labels = images.to(device), labels.to(device)\n",
    "                    output = model(images)\n",
    "                    acc = binary_accuracy(output.squeeze(), labels.float())\n",
    "                    running_loss += loss.item()\n",
    "                    running_acc += acc.item()\n",
    "    \n",
    "                val_loss = running_loss/len(val_loader)\n",
    "                val_acc = running_acc/len(val_loader)\n",
    "                epoch_accs.append(val_acc)\n",
    "                \n",
    "                pbar.set_postfix({'Learning rate': lr,\n",
    "                                  'Seed':seed,\n",
    "                                  'Epoch': epoch+1, \n",
    "                                  'Validation Loss': f'{val_loss:.3f}', \n",
    "                                  'Validation Accuracy': f'{val_acc:.3f}'})\n",
    "                \n",
    "        seed_epoch_accs.append(epoch_accs)\n",
    "    \n",
    "    best_epoch, best_accuracy = best_cv_val(seed_epoch_accs)\n",
    "    print(f'lr: {lr}, Best epoch: {best_epoch}, Accuracy {best_accuracy}')\n",
    "    all_lr_results.append({\n",
    "        'lr': lr,\n",
    "        'best_epoch': best_epoch,\n",
    "        'accuracy': best_accuracy\n",
    "    })\n",
    "\n",
    "# Create a DataFrame and save as CSV\n",
    "df = pd.DataFrame(all_lr_results)\n",
    "df.to_csv('./results/best_lr.csv', index=False)\n",
    "\n",
    "print(\"Results saved to './results/best_lr.csv'\")\n"
   ]
  },
  {
   "cell_type": "code",
   "execution_count": 9,
   "id": "3ba9e5a7-d30d-4ac9-8547-40dd42ce189d",
   "metadata": {},
   "outputs": [
    {
     "data": {
      "text/plain": [
       "0.001"
      ]
     },
     "execution_count": 9,
     "metadata": {},
     "output_type": "execute_result"
    }
   ],
   "source": [
    "df = pd.read_csv('./results/best_lr.csv')\n",
    "best_row = df.loc[df['accuracy'].idxmax()]\n",
    "best_lr = best_row['lr']\n",
    "best_lr"
   ]
  },
  {
   "cell_type": "code",
   "execution_count": null,
   "id": "1fc909e6-cd32-4874-a79f-a32470fec711",
   "metadata": {},
   "outputs": [],
   "source": []
  }
 ],
 "metadata": {
  "kernelspec": {
   "display_name": "Python 3 (ipykernel)",
   "language": "python",
   "name": "python3"
  },
  "language_info": {
   "codemirror_mode": {
    "name": "ipython",
    "version": 3
   },
   "file_extension": ".py",
   "mimetype": "text/x-python",
   "name": "python",
   "nbconvert_exporter": "python",
   "pygments_lexer": "ipython3",
   "version": "3.10.12"
  }
 },
 "nbformat": 4,
 "nbformat_minor": 5
}
